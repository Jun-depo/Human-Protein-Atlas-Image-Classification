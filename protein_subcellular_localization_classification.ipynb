{
 "cells": [
  {
   "cell_type": "code",
   "execution_count": 1,
   "metadata": {
    "_cell_guid": "b1076dfc-b9ad-4769-8c92-a6c4dae69d19",
    "_uuid": "8f2839f25d086af736a60e9eeb907d3b93b6e0e5"
   },
   "outputs": [
    {
     "name": "stderr",
     "output_type": "stream",
     "text": [
      "/home/jun3/anaconda3/lib/python3.6/site-packages/h5py/__init__.py:36: FutureWarning: Conversion of the second argument of issubdtype from `float` to `np.floating` is deprecated. In future, it will be treated as `np.float64 == np.dtype(float).type`.\n",
      "  from ._conv import register_converters as _register_converters\n",
      "Using TensorFlow backend.\n"
     ]
    }
   ],
   "source": [
    "import os, sys\n",
    "import numpy as np\n",
    "import pandas as pd\n",
    "import matplotlib.pyplot as plt\n",
    "import skimage.io\n",
    "from skimage.transform import resize\n",
    "from imgaug import augmenters as iaa\n",
    "from keras.utils import plot_model, to_categorical\n",
    "from keras.preprocessing.image import ImageDataGenerator\n",
    "import keras\n",
    "from keras.models import Sequential, load_model\n",
    "from keras.layers import Activation, Dropout, Flatten, Dense\n",
    "from keras.applications.inception_resnet_v2 import InceptionResNetV2\n",
    "from keras.applications.resnet50 import ResNet50\n",
    "from keras.callbacks import ModelCheckpoint\n",
    "from keras import metrics\n",
    "from keras.optimizers import Adam \n",
    "from keras import backend as K\n",
    "\n",
    "import warnings\n",
    "warnings.filterwarnings(\"ignore\")"
   ]
  },
  {
   "cell_type": "markdown",
   "metadata": {
    "_uuid": "72c425f3aaa2645215a3adc808fc188c5b59106d"
   },
   "source": [
    "### Load dataset info"
   ]
  },
  {
   "cell_type": "code",
   "execution_count": 2,
   "metadata": {
    "_uuid": "42315d01b95b8a901088befa4100b014a1416c7a"
   },
   "outputs": [],
   "source": [
    "path_to_train = './input/train/'\n",
    "data = pd.read_csv('./input/train.csv')"
   ]
  },
  {
   "cell_type": "code",
   "execution_count": 3,
   "metadata": {},
   "outputs": [
    {
     "data": {
      "text/html": [
       "<div>\n",
       "<style scoped>\n",
       "    .dataframe tbody tr th:only-of-type {\n",
       "        vertical-align: middle;\n",
       "    }\n",
       "\n",
       "    .dataframe tbody tr th {\n",
       "        vertical-align: top;\n",
       "    }\n",
       "\n",
       "    .dataframe thead th {\n",
       "        text-align: right;\n",
       "    }\n",
       "</style>\n",
       "<table border=\"1\" class=\"dataframe\">\n",
       "  <thead>\n",
       "    <tr style=\"text-align: right;\">\n",
       "      <th></th>\n",
       "      <th>Id</th>\n",
       "      <th>Target</th>\n",
       "    </tr>\n",
       "  </thead>\n",
       "  <tbody>\n",
       "    <tr>\n",
       "      <th>0</th>\n",
       "      <td>00070df0-bbc3-11e8-b2bc-ac1f6b6435d0</td>\n",
       "      <td>16 0</td>\n",
       "    </tr>\n",
       "    <tr>\n",
       "      <th>1</th>\n",
       "      <td>000a6c98-bb9b-11e8-b2b9-ac1f6b6435d0</td>\n",
       "      <td>7 1 2 0</td>\n",
       "    </tr>\n",
       "    <tr>\n",
       "      <th>2</th>\n",
       "      <td>000a9596-bbc4-11e8-b2bc-ac1f6b6435d0</td>\n",
       "      <td>5</td>\n",
       "    </tr>\n",
       "    <tr>\n",
       "      <th>3</th>\n",
       "      <td>000c99ba-bba4-11e8-b2b9-ac1f6b6435d0</td>\n",
       "      <td>1</td>\n",
       "    </tr>\n",
       "    <tr>\n",
       "      <th>4</th>\n",
       "      <td>001838f8-bbca-11e8-b2bc-ac1f6b6435d0</td>\n",
       "      <td>18</td>\n",
       "    </tr>\n",
       "  </tbody>\n",
       "</table>\n",
       "</div>"
      ],
      "text/plain": [
       "                                     Id   Target\n",
       "0  00070df0-bbc3-11e8-b2bc-ac1f6b6435d0     16 0\n",
       "1  000a6c98-bb9b-11e8-b2b9-ac1f6b6435d0  7 1 2 0\n",
       "2  000a9596-bbc4-11e8-b2bc-ac1f6b6435d0        5\n",
       "3  000c99ba-bba4-11e8-b2b9-ac1f6b6435d0        1\n",
       "4  001838f8-bbca-11e8-b2bc-ac1f6b6435d0       18"
      ]
     },
     "execution_count": 3,
     "metadata": {},
     "output_type": "execute_result"
    }
   ],
   "source": [
    "data.head()"
   ]
  },
  {
   "cell_type": "code",
   "execution_count": 4,
   "metadata": {},
   "outputs": [],
   "source": [
    "### add more external data\n",
    "data_ext = pd.read_csv('./HPAv18RBGY_wodpl.csv')"
   ]
  },
  {
   "cell_type": "code",
   "execution_count": 5,
   "metadata": {},
   "outputs": [
    {
     "data": {
      "text/html": [
       "<div>\n",
       "<style scoped>\n",
       "    .dataframe tbody tr th:only-of-type {\n",
       "        vertical-align: middle;\n",
       "    }\n",
       "\n",
       "    .dataframe tbody tr th {\n",
       "        vertical-align: top;\n",
       "    }\n",
       "\n",
       "    .dataframe thead th {\n",
       "        text-align: right;\n",
       "    }\n",
       "</style>\n",
       "<table border=\"1\" class=\"dataframe\">\n",
       "  <thead>\n",
       "    <tr style=\"text-align: right;\">\n",
       "      <th></th>\n",
       "      <th>Id</th>\n",
       "      <th>Target</th>\n",
       "    </tr>\n",
       "  </thead>\n",
       "  <tbody>\n",
       "    <tr>\n",
       "      <th>0</th>\n",
       "      <td>10580_1610_C1_1</td>\n",
       "      <td>13 25 0 2 21</td>\n",
       "    </tr>\n",
       "    <tr>\n",
       "      <th>1</th>\n",
       "      <td>10580_1610_C1_2</td>\n",
       "      <td>13 25 0 2 21</td>\n",
       "    </tr>\n",
       "    <tr>\n",
       "      <th>2</th>\n",
       "      <td>10580_1756_B1_1</td>\n",
       "      <td>13 25 0 2 21</td>\n",
       "    </tr>\n",
       "    <tr>\n",
       "      <th>3</th>\n",
       "      <td>10580_1756_B1_2</td>\n",
       "      <td>13 25 0 2 21</td>\n",
       "    </tr>\n",
       "    <tr>\n",
       "      <th>4</th>\n",
       "      <td>10580_1758_B1_1</td>\n",
       "      <td>13 25 0 2 21</td>\n",
       "    </tr>\n",
       "  </tbody>\n",
       "</table>\n",
       "</div>"
      ],
      "text/plain": [
       "                Id        Target\n",
       "0  10580_1610_C1_1  13 25 0 2 21\n",
       "1  10580_1610_C1_2  13 25 0 2 21\n",
       "2  10580_1756_B1_1  13 25 0 2 21\n",
       "3  10580_1756_B1_2  13 25 0 2 21\n",
       "4  10580_1758_B1_1  13 25 0 2 21"
      ]
     },
     "execution_count": 5,
     "metadata": {},
     "output_type": "execute_result"
    }
   ],
   "source": [
    "data_ext.head()"
   ]
  },
  {
   "cell_type": "code",
   "execution_count": 6,
   "metadata": {},
   "outputs": [],
   "source": [
    "data2 = data.append(data_ext, ignore_index=True)"
   ]
  },
  {
   "cell_type": "code",
   "execution_count": 8,
   "metadata": {},
   "outputs": [
    {
     "data": {
      "text/plain": [
       "105678"
      ]
     },
     "execution_count": 8,
     "metadata": {},
     "output_type": "execute_result"
    }
   ],
   "source": [
    "len(data2)"
   ]
  },
  {
   "cell_type": "code",
   "execution_count": 9,
   "metadata": {},
   "outputs": [
    {
     "data": {
      "text/plain": [
       "31072"
      ]
     },
     "execution_count": 9,
     "metadata": {},
     "output_type": "execute_result"
    }
   ],
   "source": [
    "len(data)"
   ]
  },
  {
   "cell_type": "markdown",
   "metadata": {},
   "source": [
    "class names:\n",
    "\n",
    "0:  \"Nucleoplasm\",  \n",
    "1:  \"Nuclear membrane\",   \n",
    "2:  \"Nucleoli\",   \n",
    "3:  \"Nucleoli fibrillar center\",   \n",
    "4:  \"Nuclear speckles\",\n",
    "5:  \"Nuclear bodies\",   \n",
    "6:  \"Endoplasmic reticulum\",   \n",
    "7:  \"Golgi apparatus\",   \n",
    "8:  \"Peroxisomes\",   \n",
    "9:  \"Endosomes\",   \n",
    "10:  \"Lysosomes\",   \n",
    "11:  \"Intermediate filaments\",   \n",
    "12:  \"Actin filaments\",   \n",
    "13:  \"Focal adhesion sites\",   \n",
    "14:  \"Microtubules\",   \n",
    "15:  \"Microtubule ends\",   \n",
    "16:  \"Cytokinetic bridge\",   \n",
    "17:  \"Mitotic spindle\",   \n",
    "18:  \"Microtubule organizing center\",   \n",
    "19:  \"Centrosome\",   \n",
    "20:  \"Lipid droplets\",   \n",
    "21:  \"Plasma membrane\",   \n",
    "22:  \"Cell junctions\",   \n",
    "23:  \"Mitochondria\",   \n",
    "24:  \"Aggresome\",   \n",
    "25:  \"Cytosol\",   \n",
    "26:  \"Cytoplasmic bodies\",   \n",
    "27:  \"Rods & rings\""
   ]
  },
  {
   "cell_type": "code",
   "execution_count": 10,
   "metadata": {},
   "outputs": [],
   "source": [
    "# Get rods & rings training samples--class 27\n",
    "rod_lst = []\n",
    "for i in range(len(data2)):\n",
    "    if '27' in data2.loc[i,'Target']:\n",
    "         rod_lst.append(i)"
   ]
  },
  {
   "cell_type": "code",
   "execution_count": 11,
   "metadata": {},
   "outputs": [
    {
     "data": {
      "text/html": [
       "<div>\n",
       "<style scoped>\n",
       "    .dataframe tbody tr th:only-of-type {\n",
       "        vertical-align: middle;\n",
       "    }\n",
       "\n",
       "    .dataframe tbody tr th {\n",
       "        vertical-align: top;\n",
       "    }\n",
       "\n",
       "    .dataframe thead th {\n",
       "        text-align: right;\n",
       "    }\n",
       "</style>\n",
       "<table border=\"1\" class=\"dataframe\">\n",
       "  <thead>\n",
       "    <tr style=\"text-align: right;\">\n",
       "      <th></th>\n",
       "      <th>Id</th>\n",
       "      <th>Target</th>\n",
       "    </tr>\n",
       "  </thead>\n",
       "  <tbody>\n",
       "    <tr>\n",
       "      <th>102832</th>\n",
       "      <td>17750_113_G11_2</td>\n",
       "      <td>27</td>\n",
       "    </tr>\n",
       "    <tr>\n",
       "      <th>102833</th>\n",
       "      <td>17750_161_G11_1</td>\n",
       "      <td>27</td>\n",
       "    </tr>\n",
       "    <tr>\n",
       "      <th>102834</th>\n",
       "      <td>17750_161_G11_2</td>\n",
       "      <td>27</td>\n",
       "    </tr>\n",
       "    <tr>\n",
       "      <th>102835</th>\n",
       "      <td>17750_112_G11_1</td>\n",
       "      <td>27</td>\n",
       "    </tr>\n",
       "    <tr>\n",
       "      <th>102836</th>\n",
       "      <td>17750_112_G11_2</td>\n",
       "      <td>27</td>\n",
       "    </tr>\n",
       "  </tbody>\n",
       "</table>\n",
       "</div>"
      ],
      "text/plain": [
       "                     Id Target\n",
       "102832  17750_113_G11_2     27\n",
       "102833  17750_161_G11_1     27\n",
       "102834  17750_161_G11_2     27\n",
       "102835  17750_112_G11_1     27\n",
       "102836  17750_112_G11_2     27"
      ]
     },
     "execution_count": 11,
     "metadata": {},
     "output_type": "execute_result"
    }
   ],
   "source": [
    "data2.iloc[rod_lst].tail()"
   ]
  },
  {
   "cell_type": "markdown",
   "metadata": {},
   "source": [
    " #### Protein class labels of cytoplasmic bodies, peroxisomes, endosomes, lysosomes, microtubule ends, and rods & rings are rare.  I over sampling these data [12-67]"
   ]
  },
  {
   "cell_type": "code",
   "execution_count": 12,
   "metadata": {},
   "outputs": [],
   "source": [
    "data2 = data2.append(data2.iloc[rod_lst],ignore_index=True) # add 5X more rare class \"Rods & rings\" data"
   ]
  },
  {
   "cell_type": "code",
   "execution_count": 13,
   "metadata": {},
   "outputs": [],
   "source": [
    "data2 = data2.append(data2.iloc[rod_lst],ignore_index=True)"
   ]
  },
  {
   "cell_type": "code",
   "execution_count": 14,
   "metadata": {},
   "outputs": [],
   "source": [
    "data2 = data2.append(data2.iloc[rod_lst],ignore_index=True)"
   ]
  },
  {
   "cell_type": "code",
   "execution_count": 15,
   "metadata": {},
   "outputs": [],
   "source": [
    "data2 = data2.append(data2.iloc[rod_lst],ignore_index=True)"
   ]
  },
  {
   "cell_type": "code",
   "execution_count": 16,
   "metadata": {},
   "outputs": [],
   "source": [
    "data2 = data2.append(data2.iloc[rod_lst],ignore_index=True)"
   ]
  },
  {
   "cell_type": "code",
   "execution_count": 17,
   "metadata": {},
   "outputs": [
    {
     "data": {
      "text/plain": [
       "106313"
      ]
     },
     "execution_count": 17,
     "metadata": {},
     "output_type": "execute_result"
    }
   ],
   "source": [
    "len(data2)"
   ]
  },
  {
   "cell_type": "code",
   "execution_count": 18,
   "metadata": {},
   "outputs": [],
   "source": [
    "mt_end_lst = []\n",
    "\n",
    "for i in range(len(data2)):\n",
    "    if '15' in data2.loc[i,'Target']:\n",
    "         mt_end_lst.append(i)"
   ]
  },
  {
   "cell_type": "code",
   "execution_count": 19,
   "metadata": {},
   "outputs": [],
   "source": [
    "data2 = data2.append(data2.iloc[mt_end_lst],ignore_index=True)  # add 6X more \"Microtubule ends\" data "
   ]
  },
  {
   "cell_type": "code",
   "execution_count": 20,
   "metadata": {},
   "outputs": [],
   "source": [
    "data2 = data2.append(data2.iloc[mt_end_lst],ignore_index=True)"
   ]
  },
  {
   "cell_type": "code",
   "execution_count": 21,
   "metadata": {},
   "outputs": [],
   "source": [
    "data2 = data2.append(data2.iloc[mt_end_lst],ignore_index=True)"
   ]
  },
  {
   "cell_type": "code",
   "execution_count": 22,
   "metadata": {},
   "outputs": [],
   "source": [
    "data2 = data2.append(data2.iloc[mt_end_lst],ignore_index=True)"
   ]
  },
  {
   "cell_type": "code",
   "execution_count": 23,
   "metadata": {},
   "outputs": [],
   "source": [
    "data2 = data2.append(data2.iloc[mt_end_lst],ignore_index=True)"
   ]
  },
  {
   "cell_type": "code",
   "execution_count": 24,
   "metadata": {},
   "outputs": [],
   "source": [
    "data2 = data2.append(data2.iloc[mt_end_lst],ignore_index=True)"
   ]
  },
  {
   "cell_type": "code",
   "execution_count": 25,
   "metadata": {},
   "outputs": [
    {
     "data": {
      "text/plain": [
       "106691"
      ]
     },
     "execution_count": 25,
     "metadata": {},
     "output_type": "execute_result"
    }
   ],
   "source": [
    "len(data2)"
   ]
  },
  {
   "cell_type": "code",
   "execution_count": 26,
   "metadata": {},
   "outputs": [],
   "source": [
    "lyso_lst = []\n",
    "for i in range(len(data2)):\n",
    "    if '10' in data2.loc[i,'Target']:\n",
    "         lyso_lst.append(i)"
   ]
  },
  {
   "cell_type": "code",
   "execution_count": 27,
   "metadata": {},
   "outputs": [],
   "source": [
    "data2 = data2.append(data2.iloc[lyso_lst],ignore_index=True)  # add 4X more \"Lysosomes\" data "
   ]
  },
  {
   "cell_type": "code",
   "execution_count": 28,
   "metadata": {},
   "outputs": [],
   "source": [
    "data2 = data2.append(data2.iloc[lyso_lst],ignore_index=True)"
   ]
  },
  {
   "cell_type": "code",
   "execution_count": 29,
   "metadata": {},
   "outputs": [],
   "source": [
    "data2 = data2.append(data2.iloc[lyso_lst],ignore_index=True)"
   ]
  },
  {
   "cell_type": "code",
   "execution_count": 30,
   "metadata": {},
   "outputs": [],
   "source": [
    "data2 = data2.append(data2.iloc[lyso_lst],ignore_index=True)"
   ]
  },
  {
   "cell_type": "code",
   "execution_count": 31,
   "metadata": {},
   "outputs": [
    {
     "data": {
      "text/plain": [
       "107419"
      ]
     },
     "execution_count": 31,
     "metadata": {},
     "output_type": "execute_result"
    }
   ],
   "source": [
    "len(data2)"
   ]
  },
  {
   "cell_type": "code",
   "execution_count": 32,
   "metadata": {},
   "outputs": [],
   "source": [
    "endo_lst2 = []\n",
    "\n",
    "for i in range(len(data2)):\n",
    "    if ' 9' in data2.loc[i,'Target']:\n",
    "         endo_lst2.append(i)"
   ]
  },
  {
   "cell_type": "code",
   "execution_count": 33,
   "metadata": {},
   "outputs": [
    {
     "data": {
      "text/plain": [
       "235"
      ]
     },
     "execution_count": 33,
     "metadata": {},
     "output_type": "execute_result"
    }
   ],
   "source": [
    "len(data2.iloc[endo_lst2])"
   ]
  },
  {
   "cell_type": "code",
   "execution_count": 34,
   "metadata": {},
   "outputs": [],
   "source": [
    "data2 = data2.append(data2.iloc[endo_lst2],ignore_index=True)  # add 3X more \"Endosomes\" data "
   ]
  },
  {
   "cell_type": "code",
   "execution_count": 35,
   "metadata": {},
   "outputs": [],
   "source": [
    "data2 = data2.append(data2.iloc[endo_lst2],ignore_index=True)"
   ]
  },
  {
   "cell_type": "code",
   "execution_count": 36,
   "metadata": {},
   "outputs": [],
   "source": [
    "data2 = data2.append(data2.iloc[endo_lst2],ignore_index=True)"
   ]
  },
  {
   "cell_type": "code",
   "execution_count": 37,
   "metadata": {},
   "outputs": [
    {
     "data": {
      "text/plain": [
       "108124"
      ]
     },
     "execution_count": 37,
     "metadata": {},
     "output_type": "execute_result"
    }
   ],
   "source": [
    "len(data2)"
   ]
  },
  {
   "cell_type": "code",
   "execution_count": 38,
   "metadata": {},
   "outputs": [],
   "source": [
    "pero_lst = []\n",
    "for i in range(len(data2)):\n",
    "    if ' 8' in data2.loc[i,'Target']:\n",
    "         pero_lst.append(i)"
   ]
  },
  {
   "cell_type": "code",
   "execution_count": 39,
   "metadata": {},
   "outputs": [
    {
     "data": {
      "text/plain": [
       "52"
      ]
     },
     "execution_count": 39,
     "metadata": {},
     "output_type": "execute_result"
    }
   ],
   "source": [
    "len(pero_lst)"
   ]
  },
  {
   "cell_type": "code",
   "execution_count": 40,
   "metadata": {},
   "outputs": [],
   "source": [
    "data2 = data2.append(data2.iloc[pero_lst],ignore_index=True) # add 6X more \"Peroxisomes\" data "
   ]
  },
  {
   "cell_type": "code",
   "execution_count": 41,
   "metadata": {},
   "outputs": [],
   "source": [
    "data2 = data2.append(data2.iloc[pero_lst],ignore_index=True)"
   ]
  },
  {
   "cell_type": "code",
   "execution_count": 42,
   "metadata": {},
   "outputs": [],
   "source": [
    "data2 = data2.append(data2.iloc[pero_lst],ignore_index=True)"
   ]
  },
  {
   "cell_type": "code",
   "execution_count": 43,
   "metadata": {},
   "outputs": [],
   "source": [
    "data2 = data2.append(data2.iloc[pero_lst],ignore_index=True)"
   ]
  },
  {
   "cell_type": "code",
   "execution_count": 44,
   "metadata": {},
   "outputs": [],
   "source": [
    "data2 = data2.append(data2.iloc[pero_lst],ignore_index=True)"
   ]
  },
  {
   "cell_type": "code",
   "execution_count": 45,
   "metadata": {},
   "outputs": [],
   "source": [
    "data2 = data2.append(data2.iloc[pero_lst],ignore_index=True)"
   ]
  },
  {
   "cell_type": "code",
   "execution_count": 46,
   "metadata": {},
   "outputs": [
    {
     "data": {
      "text/plain": [
       "108436"
      ]
     },
     "execution_count": 46,
     "metadata": {},
     "output_type": "execute_result"
    }
   ],
   "source": [
    "len(data2)"
   ]
  },
  {
   "cell_type": "code",
   "execution_count": 47,
   "metadata": {},
   "outputs": [],
   "source": [
    "lip_lst = []\n",
    "for i in range(len(data2)):\n",
    "    if '20' in data2.loc[i,'Target']:\n",
    "         lip_lst.append(i)"
   ]
  },
  {
   "cell_type": "code",
   "execution_count": 48,
   "metadata": {},
   "outputs": [],
   "source": [
    "data2 = data2.append(data2.iloc[lip_lst],ignore_index=True) # add 3X more \"Lipid droplets\" data "
   ]
  },
  {
   "cell_type": "code",
   "execution_count": 49,
   "metadata": {},
   "outputs": [],
   "source": [
    "data2 = data2.append(data2.iloc[lip_lst],ignore_index=True)"
   ]
  },
  {
   "cell_type": "code",
   "execution_count": 50,
   "metadata": {},
   "outputs": [],
   "source": [
    "data2 = data2.append(data2.iloc[lip_lst],ignore_index=True)"
   ]
  },
  {
   "cell_type": "code",
   "execution_count": 51,
   "metadata": {},
   "outputs": [
    {
     "data": {
      "text/plain": [
       "109750"
      ]
     },
     "execution_count": 51,
     "metadata": {},
     "output_type": "execute_result"
    }
   ],
   "source": [
    "len(data2)"
   ]
  },
  {
   "cell_type": "code",
   "execution_count": 52,
   "metadata": {},
   "outputs": [
    {
     "data": {
      "text/plain": [
       "438"
      ]
     },
     "execution_count": 52,
     "metadata": {},
     "output_type": "execute_result"
    }
   ],
   "source": [
    "len(lip_lst)"
   ]
  },
  {
   "cell_type": "code",
   "execution_count": 53,
   "metadata": {},
   "outputs": [],
   "source": [
    "mit_lst = []\n",
    "for i in range(len(data2)):\n",
    "    if '17' in data2.loc[i,'Target']:\n",
    "         mit_lst.append(i)"
   ]
  },
  {
   "cell_type": "code",
   "execution_count": 54,
   "metadata": {},
   "outputs": [
    {
     "data": {
      "text/plain": [
       "446"
      ]
     },
     "execution_count": 54,
     "metadata": {},
     "output_type": "execute_result"
    }
   ],
   "source": [
    "len(mit_lst)"
   ]
  },
  {
   "cell_type": "code",
   "execution_count": 55,
   "metadata": {},
   "outputs": [],
   "source": [
    "data2 = data2.append(data2.iloc[mit_lst],ignore_index=True) # add 2X more \"Mitotic spindle\" data "
   ]
  },
  {
   "cell_type": "code",
   "execution_count": 56,
   "metadata": {},
   "outputs": [],
   "source": [
    "data2 = data2.append(data2.iloc[mit_lst],ignore_index=True)"
   ]
  },
  {
   "cell_type": "code",
   "execution_count": 57,
   "metadata": {},
   "outputs": [
    {
     "data": {
      "text/plain": [
       "110642"
      ]
     },
     "execution_count": 57,
     "metadata": {},
     "output_type": "execute_result"
    }
   ],
   "source": [
    "len(data2)"
   ]
  },
  {
   "cell_type": "code",
   "execution_count": 58,
   "metadata": {},
   "outputs": [],
   "source": [
    "aggr_lst = []\n",
    "for i in range(len(data2)):\n",
    "    if '24' in data2.loc[i,'Target']:\n",
    "         aggr_lst.append(i)"
   ]
  },
  {
   "cell_type": "code",
   "execution_count": 59,
   "metadata": {},
   "outputs": [
    {
     "data": {
      "text/plain": [
       "428"
      ]
     },
     "execution_count": 59,
     "metadata": {},
     "output_type": "execute_result"
    }
   ],
   "source": [
    "len(aggr_lst)"
   ]
  },
  {
   "cell_type": "code",
   "execution_count": 60,
   "metadata": {},
   "outputs": [],
   "source": [
    "data2 = data2.append(data2.iloc[aggr_lst],ignore_index=True) # add 2X more \"Aggresome\" data "
   ]
  },
  {
   "cell_type": "code",
   "execution_count": 61,
   "metadata": {},
   "outputs": [],
   "source": [
    "data2 = data2.append(data2.iloc[aggr_lst],ignore_index=True)"
   ]
  },
  {
   "cell_type": "code",
   "execution_count": 62,
   "metadata": {},
   "outputs": [
    {
     "data": {
      "text/plain": [
       "111498"
      ]
     },
     "execution_count": 62,
     "metadata": {},
     "output_type": "execute_result"
    }
   ],
   "source": [
    "len(data2)"
   ]
  },
  {
   "cell_type": "code",
   "execution_count": 63,
   "metadata": {},
   "outputs": [],
   "source": [
    "cytobody_lst = []\n",
    "for i in range(len(data2)):\n",
    "    if '26' in data2.loc[i,'Target']:\n",
    "         cytobody_lst.append(i)"
   ]
  },
  {
   "cell_type": "code",
   "execution_count": 64,
   "metadata": {},
   "outputs": [
    {
     "data": {
      "text/plain": [
       "706"
      ]
     },
     "execution_count": 64,
     "metadata": {},
     "output_type": "execute_result"
    }
   ],
   "source": [
    "len(cytobody_lst)"
   ]
  },
  {
   "cell_type": "code",
   "execution_count": 65,
   "metadata": {},
   "outputs": [],
   "source": [
    "data2 = data2.append(data2.iloc[cytobody_lst],ignore_index=True) # add 1X more \"Cytoplasmic bodies\" data"
   ]
  },
  {
   "cell_type": "code",
   "execution_count": 66,
   "metadata": {},
   "outputs": [],
   "source": [
    "data2 = data2.append(data2.iloc[cytobody_lst],ignore_index=True) "
   ]
  },
  {
   "cell_type": "code",
   "execution_count": 67,
   "metadata": {},
   "outputs": [
    {
     "data": {
      "text/plain": [
       "112910"
      ]
     },
     "execution_count": 67,
     "metadata": {},
     "output_type": "execute_result"
    }
   ],
   "source": [
    "len(data2)"
   ]
  },
  {
   "cell_type": "code",
   "execution_count": 68,
   "metadata": {},
   "outputs": [],
   "source": [
    "label_names = {\n",
    "    0:  \"Nucleoplasm\",  \n",
    "    1:  \"Nuclear membrane\",   \n",
    "    2:  \"Nucleoli\",   \n",
    "    3:  \"Nucleoli fibrillar center\",   \n",
    "    4:  \"Nuclear speckles\",\n",
    "    5:  \"Nuclear bodies\",   \n",
    "    6:  \"Endoplasmic reticulum\",   \n",
    "    7:  \"Golgi apparatus\",   \n",
    "    8:  \"Peroxisomes\",   \n",
    "    9:  \"Endosomes\",   \n",
    "    10:  \"Lysosomes\",   \n",
    "    11:  \"Intermediate filaments\",   \n",
    "    12:  \"Actin filaments\",   \n",
    "    13:  \"Focal adhesion sites\",   \n",
    "    14:  \"Microtubules\",   \n",
    "    15:  \"Microtubule ends\",   \n",
    "    16:  \"Cytokinetic bridge\",   \n",
    "    17:  \"Mitotic spindle\",   \n",
    "    18:  \"Microtubule organizing center\",   \n",
    "    19:  \"Centrosome\",   \n",
    "    20:  \"Lipid droplets\",   \n",
    "    21:  \"Plasma membrane\",   \n",
    "    22:  \"Cell junctions\",   \n",
    "    23:  \"Mitochondria\",   \n",
    "    24:  \"Aggresome\",   \n",
    "    25:  \"Cytosol\",   \n",
    "    26:  \"Cytoplasmic bodies\",   \n",
    "    27:  \"Rods & rings\"\n",
    "}"
   ]
  },
  {
   "cell_type": "code",
   "execution_count": 69,
   "metadata": {},
   "outputs": [],
   "source": [
    "train_dataset_info = []\n",
    "for name, labels in zip(data2['Id'], data2['Target'].str.split(' ')):\n",
    "    train_dataset_info.append({\n",
    "        'path':os.path.join(path_to_train, name),\n",
    "        'labels':np.array([int(label) for label in labels])})\n",
    "train_dataset_info = np.array(train_dataset_info)"
   ]
  },
  {
   "cell_type": "code",
   "execution_count": 70,
   "metadata": {},
   "outputs": [
    {
     "data": {
      "text/plain": [
       "112910"
      ]
     },
     "execution_count": 70,
     "metadata": {},
     "output_type": "execute_result"
    }
   ],
   "source": [
    "len(train_dataset_info)"
   ]
  },
  {
   "cell_type": "code",
   "execution_count": 71,
   "metadata": {},
   "outputs": [
    {
     "data": {
      "text/plain": [
       "array([{'path': './input/train/00070df0-bbc3-11e8-b2bc-ac1f6b6435d0', 'labels': array([16,  0])},\n",
       "       {'path': './input/train/000a6c98-bb9b-11e8-b2b9-ac1f6b6435d0', 'labels': array([7, 1, 2, 0])}],\n",
       "      dtype=object)"
      ]
     },
     "execution_count": 71,
     "metadata": {},
     "output_type": "execute_result"
    }
   ],
   "source": [
    "train_dataset_info[0:2]"
   ]
  },
  {
   "cell_type": "code",
   "execution_count": 72,
   "metadata": {},
   "outputs": [],
   "source": [
    "### The function below converts a list of labels into 28 element arrays \n",
    "### (corresponding to 28 classes of subcellular localizations). \n",
    "\n",
    "def convert_to_categorical(label, num_classes=28):\n",
    "    cat_label = []\n",
    "    for i in label:\n",
    "        \n",
    "        tmp = to_categorical(i, num_classes=num_classes).reshape(1, -1)\n",
    "        cat_label.append(tmp)\n",
    "\n",
    "    cat_label = np.array(cat_label)\n",
    "    return np.sum(cat_label, axis=0, keepdims=True)[0][0]  # return final multi-class label"
   ]
  },
  {
   "cell_type": "code",
   "execution_count": 73,
   "metadata": {},
   "outputs": [],
   "source": [
    "for i in train_dataset_info:\n",
    "    i['labels'] = convert_to_categorical(i['labels'])"
   ]
  },
  {
   "cell_type": "code",
   "execution_count": 74,
   "metadata": {},
   "outputs": [
    {
     "data": {
      "text/plain": [
       "array([1., 0., 0., 0., 0., 0., 0., 0., 0., 0., 0., 0., 0., 0., 0., 0., 1.,\n",
       "       0., 0., 0., 0., 0., 0., 0., 0., 0., 0., 0.], dtype=float32)"
      ]
     },
     "execution_count": 74,
     "metadata": {},
     "output_type": "execute_result"
    }
   ],
   "source": [
    "train_dataset_info[0]['labels']\n",
    "# converted properly"
   ]
  },
  {
   "cell_type": "code",
   "execution_count": 75,
   "metadata": {},
   "outputs": [],
   "source": [
    "IDs = []\n",
    "labels = {}\n",
    "for i, item in enumerate(train_dataset_info):  \n",
    "    id = item['path']\n",
    "    IDs.append(id)\n",
    "    labels[id] = item['labels']    "
   ]
  },
  {
   "cell_type": "code",
   "execution_count": 76,
   "metadata": {},
   "outputs": [],
   "source": [
    "label_lst = []\n",
    "for i, item in enumerate(train_dataset_info):  \n",
    "    label = item['labels']\n",
    "    label_lst.append(label)"
   ]
  },
  {
   "cell_type": "code",
   "execution_count": 77,
   "metadata": {},
   "outputs": [
    {
     "data": {
      "text/plain": [
       "array([1., 0., 1., 0., 0., 0., 0., 0., 0., 0., 0., 0., 0., 0., 0., 0., 0.,\n",
       "       0., 0., 0., 0., 0., 0., 0., 0., 0., 0., 0.], dtype=float32)"
      ]
     },
     "execution_count": 77,
     "metadata": {},
     "output_type": "execute_result"
    }
   ],
   "source": [
    "label_lst[31071]"
   ]
  },
  {
   "cell_type": "code",
   "execution_count": 78,
   "metadata": {},
   "outputs": [
    {
     "data": {
      "text/plain": [
       "112910"
      ]
     },
     "execution_count": 78,
     "metadata": {},
     "output_type": "execute_result"
    }
   ],
   "source": [
    "len(IDs)"
   ]
  },
  {
   "cell_type": "code",
   "execution_count": 79,
   "metadata": {},
   "outputs": [],
   "source": [
    "import random\n",
    "random.seed(42)\n",
    "random.shuffle(IDs)"
   ]
  },
  {
   "cell_type": "code",
   "execution_count": 80,
   "metadata": {},
   "outputs": [
    {
     "data": {
      "text/plain": [
       "['./input/train/42776_579_E5_3', './input/train/20981_284_E3_1']"
      ]
     },
     "execution_count": 80,
     "metadata": {},
     "output_type": "execute_result"
    }
   ],
   "source": [
    "IDs[0:2]"
   ]
  },
  {
   "cell_type": "code",
   "execution_count": 81,
   "metadata": {},
   "outputs": [],
   "source": [
    "partition = {'train': IDs[0:89408], 'validation': IDs[89408:]}"
   ]
  },
  {
   "cell_type": "code",
   "execution_count": 82,
   "metadata": {},
   "outputs": [
    {
     "data": {
      "text/plain": [
       "'./input/train/29349_340_F3_5'"
      ]
     },
     "execution_count": 82,
     "metadata": {},
     "output_type": "execute_result"
    }
   ],
   "source": [
    "partition['validation'][1]"
   ]
  },
  {
   "cell_type": "markdown",
   "metadata": {
    "_uuid": "ae3dcb3e4a000051fc8947502a28d399d200a924"
   },
   "source": [
    "### Create Datagenerator"
   ]
  },
  {
   "cell_type": "code",
   "execution_count": 83,
   "metadata": {},
   "outputs": [],
   "source": [
    "class DataGenerator(keras.utils.Sequence):\n",
    "    ### Generates data for Keras\n",
    "    def __init__(self, list_IDs, list_labels, batch_size=16, shape=(512,512,4), random_crop_size=(255,255), \n",
    "                 n_classes=28, shuffle=True, crop=True):\n",
    "        # Initialization\n",
    "        self.shape = shape\n",
    "        self.batch_size = batch_size\n",
    "        self.list_IDs = list_IDs\n",
    "        self.list_labels = list_labels\n",
    "        self.n_classes = n_classes       \n",
    "        self.shuffle = shuffle\n",
    "        self.crop = crop\n",
    "        self.random_crop_size = random_crop_size\n",
    "        self.on_epoch_end()\n",
    "        \n",
    "    def on_epoch_end(self):\n",
    "        'Updates indexes after each epoch'\n",
    "        self.indexes = np.arange(len(self.list_IDs))\n",
    "        if self.shuffle == True:\n",
    "            np.random.shuffle(self.indexes) \n",
    "\n",
    "    def __len__(self):\n",
    "        'Denotes the number of batches per epoch'\n",
    "        return int(np.ceil(len(self.list_IDs) / self.batch_size))\n",
    "    \n",
    "    def __getitem__(self, batch_num):\n",
    "        'Generate one batch of data'\n",
    "        # Generate indexes of the batch\n",
    "        \n",
    "        batch_indexes = self.indexes[batch_num*self.batch_size:(batch_num+1)*self.batch_size]\n",
    "\n",
    "        # Find list of IDs\n",
    "        \n",
    "        list_IDs_temp = [self.list_IDs[k] for k in batch_indexes]\n",
    "        \n",
    "        # Generate data\n",
    "        X, y = self.data_gen(list_IDs_temp)\n",
    "        return X, y\n",
    "\n",
    "    def data_gen(self, IDs):\n",
    "        \n",
    "        batch_labels = np.zeros((len(IDs), self.n_classes))\n",
    "        batch_images = np.empty((len(IDs), self.random_crop_size[0], self.random_crop_size[1], self.shape[2])) \n",
    "        \n",
    "        for i, ID in enumerate(IDs):            \n",
    "            image = DataGenerator.load_image(ID)   \n",
    "            image = DataGenerator.random_crop(image, self.random_crop_size)\n",
    "            image = DataGenerator.augment(image)\n",
    "            \n",
    "            batch_images[i] = image\n",
    "            batch_labels[i]= self.list_labels[ID]\n",
    "        \n",
    "        return batch_images, batch_labels\n",
    "\n",
    "    def load_image(ID):\n",
    "        image_red_ch = skimage.io.imread(ID+'_red.png')/255 # label microtubules\n",
    "        image_yellow_ch = skimage.io.imread(ID+'_yellow.png')/255 # label endoplasmatic reticulum\n",
    "        image_green_ch = skimage.io.imread(ID+'_green.png')/255 # target protein structure\n",
    "        image_blue_ch = skimage.io.imread(ID+'_blue.png')/255 # label nucleus\n",
    "        image = np.stack((image_red_ch, image_yellow_ch, image_green_ch, image_blue_ch), -1)\n",
    "        #image = resize(image, (shape[0], shape[1]), mode='reflect')\n",
    "        return image       \n",
    "    \n",
    "    def random_crop(img, random_crop_size):\n",
    "    # Note: image_data_format is 'channel_last'\n",
    "        \n",
    "        height, width = img.shape[0], img.shape[1]\n",
    "        dy, dx = random_crop_size\n",
    "        x = np.random.randint(0, width - dx + 1)\n",
    "        y = np.random.randint(0, height - dy + 1)\n",
    "        return img[y:(y+dy), x:(x+dx), :]\n",
    "    \n",
    "    def augment(image):\n",
    "        augment_img = iaa.Sequential([\n",
    "            iaa.OneOf([\n",
    "                iaa.Affine(rotate=0),\n",
    "                iaa.Affine(rotate=90),\n",
    "                iaa.Affine(rotate=180),\n",
    "                iaa.Affine(rotate=270),\n",
    "                iaa.Fliplr(0.5),\n",
    "                iaa.Flipud(0.5),\n",
    "            ])], random_order=True)\n",
    "        \n",
    "        image_aug = augment_img.augment_image(image)\n",
    "        return image_aug"
   ]
  },
  {
   "cell_type": "markdown",
   "metadata": {},
   "source": [
    "###  Show data"
   ]
  },
  {
   "cell_type": "markdown",
   "metadata": {
    "_uuid": "ddbc11bf72ecab4028380d64a08660a70a2da028"
   },
   "source": [
    "### Create model"
   ]
  },
  {
   "cell_type": "code",
   "execution_count": 84,
   "metadata": {
    "_uuid": "64bba0326be38da7add3594002563bea1c9703db"
   },
   "outputs": [],
   "source": [
    "from keras.layers import BatchNormalization\n",
    "\n",
    "def create_model(input_shape, n_out):\n",
    "    \n",
    "    InRes_model = InceptionResNetV2(\n",
    "        include_top=False, \n",
    "        weights= None, \n",
    "        input_shape=input_shape)\n",
    "    \n",
    "    model = Sequential()\n",
    "    model.add(InRes_model)\n",
    "    model.add(BatchNormalization(axis = 3))\n",
    "    model.add(Flatten())\n",
    "    model.add(Activation('relu'))\n",
    "    model.add(Dropout(0.1))\n",
    "    model.add(Dense(512))\n",
    "    model.add(Activation('relu'))\n",
    "    model.add(Dropout(0.1))\n",
    "    model.add(Dense(n_out))\n",
    "    model.add(Activation('sigmoid'))\n",
    "    return model"
   ]
  },
  {
   "cell_type": "code",
   "execution_count": 85,
   "metadata": {
    "_uuid": "e7296424196067a0e0a8f2383c99bd2bb76281c4"
   },
   "outputs": [
    {
     "name": "stdout",
     "output_type": "stream",
     "text": [
      "_________________________________________________________________\n",
      "Layer (type)                 Output Shape              Param #   \n",
      "=================================================================\n",
      "inception_resnet_v2 (Model)  (None, 6, 6, 1536)        54337024  \n",
      "_________________________________________________________________\n",
      "batch_normalization_204 (Bat (None, 6, 6, 1536)        6144      \n",
      "_________________________________________________________________\n",
      "flatten_1 (Flatten)          (None, 55296)             0         \n",
      "_________________________________________________________________\n",
      "activation_204 (Activation)  (None, 55296)             0         \n",
      "_________________________________________________________________\n",
      "dropout_1 (Dropout)          (None, 55296)             0         \n",
      "_________________________________________________________________\n",
      "dense_1 (Dense)              (None, 512)               28312064  \n",
      "_________________________________________________________________\n",
      "activation_205 (Activation)  (None, 512)               0         \n",
      "_________________________________________________________________\n",
      "dropout_2 (Dropout)          (None, 512)               0         \n",
      "_________________________________________________________________\n",
      "dense_2 (Dense)              (None, 28)                14364     \n",
      "_________________________________________________________________\n",
      "activation_206 (Activation)  (None, 28)                0         \n",
      "=================================================================\n",
      "Total params: 82,669,596\n",
      "Trainable params: 82,605,980\n",
      "Non-trainable params: 63,616\n",
      "_________________________________________________________________\n"
     ]
    }
   ],
   "source": [
    "keras.backend.clear_session()\n",
    "\n",
    "model = create_model(\n",
    "    input_shape=(255,255,4), \n",
    "    n_out=28)\n",
    "model = load_model('./InceptionResNetV2_jun2_bina255j-Copy1.hdf5') \n",
    "# The weights are from the same model I trained previously. I had 16GB RAM. The model fitting oftens stopped due out of resource.  \n",
    "# I did duplicated and saved some weights for \"load_model\".  \n",
    "\n",
    "model.compile(\n",
    "    loss='binary_crossentropy', \n",
    "    optimizer=Adam(5e-05),\n",
    "    metrics=['acc'])\n",
    "\n",
    "model.summary()"
   ]
  },
  {
   "cell_type": "code",
   "execution_count": 86,
   "metadata": {},
   "outputs": [
    {
     "name": "stdout",
     "output_type": "stream",
     "text": [
      "Epoch 1/12\n",
      "5588/5588 [==============================] - 2250s 403ms/step - loss: 0.0967 - acc: 0.9676 - val_loss: 0.0947 - val_acc: 0.9680\n",
      "\n",
      "Epoch 00001: val_loss improved from inf to 0.09467, saving model to ./InceptionResNetV2_jun2_bina255k.h5\n",
      "Epoch 2/12\n",
      "5588/5588 [==============================] - 2182s 390ms/step - loss: 0.0953 - acc: 0.9679 - val_loss: 0.0954 - val_acc: 0.9670\n",
      "\n",
      "Epoch 00002: val_loss did not improve from 0.09467\n",
      "Epoch 3/12\n",
      "5588/5588 [==============================] - 2233s 400ms/step - loss: 0.0944 - acc: 0.9681 - val_loss: 0.0947 - val_acc: 0.9680\n",
      "\n",
      "Epoch 00003: val_loss did not improve from 0.09467\n",
      "Epoch 4/12\n",
      "5588/5588 [==============================] - 2328s 417ms/step - loss: 0.0937 - acc: 0.9683 - val_loss: 0.0940 - val_acc: 0.9684\n",
      "\n",
      "Epoch 00004: val_loss improved from 0.09467 to 0.09402, saving model to ./InceptionResNetV2_jun2_bina255k.h5\n",
      "Epoch 5/12\n",
      "5588/5588 [==============================] - 2366s 423ms/step - loss: 0.0927 - acc: 0.9686 - val_loss: 0.0916 - val_acc: 0.9693\n",
      "\n",
      "Epoch 00005: val_loss improved from 0.09402 to 0.09159, saving model to ./InceptionResNetV2_jun2_bina255k.h5\n",
      "Epoch 6/12\n",
      "5588/5588 [==============================] - 2226s 398ms/step - loss: 0.0915 - acc: 0.9690 - val_loss: 0.0915 - val_acc: 0.9689\n",
      "\n",
      "Epoch 00006: val_loss improved from 0.09159 to 0.09149, saving model to ./InceptionResNetV2_jun2_bina255k.h5\n",
      "Epoch 7/12\n",
      "5588/5588 [==============================] - 2206s 395ms/step - loss: 0.0907 - acc: 0.9691 - val_loss: 0.0896 - val_acc: 0.9696\n",
      "\n",
      "Epoch 00007: val_loss improved from 0.09149 to 0.08956, saving model to ./InceptionResNetV2_jun2_bina255k.h5\n",
      "Epoch 8/12\n",
      "5588/5588 [==============================] - 2245s 402ms/step - loss: 0.0897 - acc: 0.9695 - val_loss: 0.0877 - val_acc: 0.9704\n",
      "\n",
      "Epoch 00008: val_loss improved from 0.08956 to 0.08768, saving model to ./InceptionResNetV2_jun2_bina255k.h5\n",
      "Epoch 9/12\n",
      "5588/5588 [==============================] - 2245s 402ms/step - loss: 0.0888 - acc: 0.9697 - val_loss: 0.0891 - val_acc: 0.9702\n",
      "\n",
      "Epoch 00009: val_loss did not improve from 0.08768\n",
      "Epoch 10/12\n",
      "5588/5588 [==============================] - 2199s 393ms/step - loss: 0.0879 - acc: 0.9699 - val_loss: 0.0893 - val_acc: 0.9695\n",
      "\n",
      "Epoch 00010: val_loss did not improve from 0.08768\n",
      "Epoch 11/12\n",
      "5588/5588 [==============================] - 2175s 389ms/step - loss: 0.0872 - acc: 0.9702 - val_loss: 0.0881 - val_acc: 0.9701\n",
      "\n",
      "Epoch 00011: val_loss did not improve from 0.08768\n",
      "Epoch 12/12\n",
      "5588/5588 [==============================] - 2200s 394ms/step - loss: 0.0861 - acc: 0.9704 - val_loss: 0.0979 - val_acc: 0.9667\n",
      "\n",
      "Epoch 00012: val_loss did not improve from 0.08768\n"
     ]
    }
   ],
   "source": [
    "params = {'shape': (512, 512, 4),\n",
    "          'batch_size': 16,\n",
    "          'random_crop_size': (255,255),\n",
    "          'n_classes': 28}\n",
    "\n",
    "epochs = 12\n",
    "checkpointer = ModelCheckpoint(filepath='./InceptionResNetV2_jun2_bina255k.h5', \n",
    "    verbose=2, \n",
    "    save_best_only=True)\n",
    "\n",
    "\n",
    "# Generators\n",
    "training_generator = DataGenerator(partition['train'], labels, **params)\n",
    "validation_generator = DataGenerator(partition['validation'], labels,  **params)\n",
    "\n",
    "# Train model on dataset\n",
    "history = model.fit_generator(\n",
    "    training_generator,\n",
    "    validation_data=validation_generator,\n",
    "    epochs=epochs, \n",
    "    verbose=1,\n",
    "    callbacks=[checkpointer], use_multiprocessing=True)"
   ]
  },
  {
   "cell_type": "markdown",
   "metadata": {
    "_uuid": "2fbffd71262d7d7e591ad5955feb6b0c5ee61737"
   },
   "source": [
    "### Train model"
   ]
  },
  {
   "cell_type": "code",
   "execution_count": 87,
   "metadata": {
    "_uuid": "884be9cb5e6c81d0ba382bc436810831b37e3e3f"
   },
   "outputs": [
    {
     "data": {
      "text/plain": [
       "<matplotlib.legend.Legend at 0x7fa096c0add8>"
      ]
     },
     "execution_count": 87,
     "metadata": {},
     "output_type": "execute_result"
    },
    {
     "data": {
      "image/png": "[encoded data removed]",
      "text/plain": [
       "<Figure size 1080x360 with 2 Axes>"
      ]
     },
     "metadata": {},
     "output_type": "display_data"
    }
   ],
   "source": [
    "fig, ax = plt.subplots(1, 2, figsize=(15,5))\n",
    "ax[0].set_title('loss')\n",
    "ax[0].plot(history.epoch, history.history[\"loss\"], label=\"Train loss\")\n",
    "ax[0].plot(history.epoch, history.history[\"val_loss\"], label=\"Validation loss\")\n",
    "ax[1].set_title('acc')\n",
    "ax[1].plot(history.epoch, history.history[\"acc\"], label=\"Train acc\")\n",
    "ax[1].plot(history.epoch, history.history[\"val_acc\"], label=\"Validation acc\")\n",
    "ax[0].legend()\n",
    "ax[1].legend()"
   ]
  },
  {
   "cell_type": "markdown",
   "metadata": {
    "_uuid": "2a52b306cd27fc030cfd3f7583009945de7828ac"
   },
   "source": [
    "### Create submit"
   ]
  },
  {
   "cell_type": "code",
   "execution_count": 88,
   "metadata": {},
   "outputs": [],
   "source": [
    "model = load_model('./InceptionResNetV2_jun2_bina255k.h5')"
   ]
  },
  {
   "cell_type": "code",
   "execution_count": 89,
   "metadata": {
    "_uuid": "9d9ee4a8c2b1fc75b9f8d58855e33b115e92134d"
   },
   "outputs": [],
   "source": [
    "submit = pd.read_csv('./input/sample_submission.csv')"
   ]
  },
  {
   "cell_type": "code",
   "execution_count": 90,
   "metadata": {},
   "outputs": [
    {
     "data": {
      "text/plain": [
       "11702"
      ]
     },
     "execution_count": 90,
     "metadata": {},
     "output_type": "execute_result"
    }
   ],
   "source": [
    "len(submit)"
   ]
  },
  {
   "cell_type": "code",
   "execution_count": 91,
   "metadata": {},
   "outputs": [],
   "source": [
    "submit['path_Id'] = './input/test/' + submit['Id']  "
   ]
  },
  {
   "cell_type": "code",
   "execution_count": 92,
   "metadata": {},
   "outputs": [
    {
     "data": {
      "text/plain": [
       "0    ./input/test/00008af0-bad0-11e8-b2b8-ac1f6b6435d0\n",
       "1    ./input/test/0000a892-bacf-11e8-b2b8-ac1f6b6435d0\n",
       "2    ./input/test/0006faa6-bac7-11e8-b2b7-ac1f6b6435d0\n",
       "3    ./input/test/0008baca-bad7-11e8-b2b9-ac1f6b6435d0\n",
       "4    ./input/test/000cce7e-bad4-11e8-b2b8-ac1f6b6435d0\n",
       "Name: path_Id, dtype: object"
      ]
     },
     "execution_count": 92,
     "metadata": {},
     "output_type": "execute_result"
    }
   ],
   "source": [
    "submit['path_Id'].head()"
   ]
  },
  {
   "cell_type": "code",
   "execution_count": 93,
   "metadata": {},
   "outputs": [
    {
     "data": {
      "text/html": [
       "<div>\n",
       "<style scoped>\n",
       "    .dataframe tbody tr th:only-of-type {\n",
       "        vertical-align: middle;\n",
       "    }\n",
       "\n",
       "    .dataframe tbody tr th {\n",
       "        vertical-align: top;\n",
       "    }\n",
       "\n",
       "    .dataframe thead th {\n",
       "        text-align: right;\n",
       "    }\n",
       "</style>\n",
       "<table border=\"1\" class=\"dataframe\">\n",
       "  <thead>\n",
       "    <tr style=\"text-align: right;\">\n",
       "      <th></th>\n",
       "      <th>Id</th>\n",
       "      <th>Predicted</th>\n",
       "      <th>path_Id</th>\n",
       "    </tr>\n",
       "  </thead>\n",
       "  <tbody>\n",
       "    <tr>\n",
       "      <th>0</th>\n",
       "      <td>00008af0-bad0-11e8-b2b8-ac1f6b6435d0</td>\n",
       "      <td>0</td>\n",
       "      <td>./input/test/00008af0-bad0-11e8-b2b8-ac1f6b6435d0</td>\n",
       "    </tr>\n",
       "    <tr>\n",
       "      <th>1</th>\n",
       "      <td>0000a892-bacf-11e8-b2b8-ac1f6b6435d0</td>\n",
       "      <td>0</td>\n",
       "      <td>./input/test/0000a892-bacf-11e8-b2b8-ac1f6b6435d0</td>\n",
       "    </tr>\n",
       "    <tr>\n",
       "      <th>2</th>\n",
       "      <td>0006faa6-bac7-11e8-b2b7-ac1f6b6435d0</td>\n",
       "      <td>0</td>\n",
       "      <td>./input/test/0006faa6-bac7-11e8-b2b7-ac1f6b6435d0</td>\n",
       "    </tr>\n",
       "    <tr>\n",
       "      <th>3</th>\n",
       "      <td>0008baca-bad7-11e8-b2b9-ac1f6b6435d0</td>\n",
       "      <td>0</td>\n",
       "      <td>./input/test/0008baca-bad7-11e8-b2b9-ac1f6b6435d0</td>\n",
       "    </tr>\n",
       "    <tr>\n",
       "      <th>4</th>\n",
       "      <td>000cce7e-bad4-11e8-b2b8-ac1f6b6435d0</td>\n",
       "      <td>0</td>\n",
       "      <td>./input/test/000cce7e-bad4-11e8-b2b8-ac1f6b6435d0</td>\n",
       "    </tr>\n",
       "  </tbody>\n",
       "</table>\n",
       "</div>"
      ],
      "text/plain": [
       "                                     Id  Predicted  \\\n",
       "0  00008af0-bad0-11e8-b2b8-ac1f6b6435d0          0   \n",
       "1  0000a892-bacf-11e8-b2b8-ac1f6b6435d0          0   \n",
       "2  0006faa6-bac7-11e8-b2b7-ac1f6b6435d0          0   \n",
       "3  0008baca-bad7-11e8-b2b9-ac1f6b6435d0          0   \n",
       "4  000cce7e-bad4-11e8-b2b8-ac1f6b6435d0          0   \n",
       "\n",
       "                                             path_Id  \n",
       "0  ./input/test/00008af0-bad0-11e8-b2b8-ac1f6b6435d0  \n",
       "1  ./input/test/0000a892-bacf-11e8-b2b8-ac1f6b6435d0  \n",
       "2  ./input/test/0006faa6-bac7-11e8-b2b7-ac1f6b6435d0  \n",
       "3  ./input/test/0008baca-bad7-11e8-b2b9-ac1f6b6435d0  \n",
       "4  ./input/test/000cce7e-bad4-11e8-b2b8-ac1f6b6435d0  "
      ]
     },
     "execution_count": 93,
     "metadata": {},
     "output_type": "execute_result"
    }
   ],
   "source": [
    "submit.head()"
   ]
  },
  {
   "cell_type": "code",
   "execution_count": 94,
   "metadata": {},
   "outputs": [],
   "source": [
    "predicted35 = []\n",
    "predicted40 = []\n",
    "predicted45 = []\n",
    "predicted50 = []\n",
    "predicted25 = []\n",
    "predicted30 = []\n",
    "\n",
    "score_predict_IncRes255k = []\n",
    "\n",
    "for i in range(len(submit['path_Id'])):\n",
    "    ID = submit.loc[i,'path_Id']\n",
    "\n",
    "    image = DataGenerator.load_image(ID)\n",
    "    image1 = DataGenerator.random_crop(image, (255, 255))\n",
    "    image2 = DataGenerator.random_crop(image, (255, 255))\n",
    "    image3 = DataGenerator.random_crop(image, (255, 255))\n",
    "    image4 = DataGenerator.random_crop(image, (255, 255))\n",
    "    image5 = DataGenerator.random_crop(image, (255, 255))\n",
    "    image6 = DataGenerator.random_crop(image, (255, 255))\n",
    "    image7 = DataGenerator.random_crop(image, (255, 255))\n",
    "    image8 = DataGenerator.random_crop(image, (255, 255))\n",
    "    score_predict_arr = np.concatenate(([model.predict(image1[np.newaxis])[0]],\n",
    "                                       [model.predict(image2[np.newaxis])[0]],\n",
    "                                       [model.predict(image3[np.newaxis])[0]],\n",
    "                                       [model.predict(image4[np.newaxis])[0]],\n",
    "                                       [model.predict(image5[np.newaxis])[0]],\n",
    "                                       [model.predict(image6[np.newaxis])[0]],\n",
    "                                       [model.predict(image7[np.newaxis])[0]],\n",
    "                                       [model.predict(image8[np.newaxis])[0]]), axis=0)\n",
    "    score_predict = np.max(score_predict_arr, axis=0)\n",
    "    label_predict35 = np.arange(28)[score_predict>=0.35]\n",
    "    label_predict40 = np.arange(28)[score_predict>=0.40]\n",
    "    label_predict45 = np.arange(28)[score_predict>=0.45]\n",
    "    label_predict50 = np.arange(28)[score_predict>=0.50]\n",
    "    label_predict25 = np.arange(28)[score_predict>=0.25]\n",
    "    label_predict30 = np.arange(28)[score_predict>=0.30]\n",
    "    \n",
    "    str_predict_label35 = ' '.join(str(l) for l in label_predict35)\n",
    "    str_predict_label40 = ' '.join(str(l) for l in label_predict40)\n",
    "    str_predict_label45 = ' '.join(str(l) for l in label_predict45)\n",
    "    str_predict_label50 = ' '.join(str(l) for l in label_predict50)\n",
    "    str_predict_label25 = ' '.join(str(l) for l in label_predict25)\n",
    "    str_predict_label30 = ' '.join(str(l) for l in label_predict30)\n",
    "    \n",
    "    \n",
    "    predicted35.append(str_predict_label35)\n",
    "    predicted40.append(str_predict_label40)\n",
    "    predicted45.append(str_predict_label45)\n",
    "    predicted50.append(str_predict_label50)\n",
    "    predicted25.append(str_predict_label25)\n",
    "    predicted30.append(str_predict_label30)\n",
    "    \n",
    "    score_predict_IncRes255k.append(score_predict)\n",
    "    \n",
    "# I used different threshold for the prediction.  The best threshold for \"post competition submission\" was \"score_predict>=0.50\""
   ]
  },
  {
   "cell_type": "markdown",
   "metadata": {},
   "source": []
  },
  {
   "cell_type": "code",
   "execution_count": 95,
   "metadata": {},
   "outputs": [],
   "source": [
    "submit35 = submit.copy()\n",
    "submit35['Predicted'] = predicted35"
   ]
  },
  {
   "cell_type": "code",
   "execution_count": 96,
   "metadata": {},
   "outputs": [],
   "source": [
    "submit40 = submit.copy()\n",
    "submit40['Predicted'] = predicted40"
   ]
  },
  {
   "cell_type": "code",
   "execution_count": 97,
   "metadata": {},
   "outputs": [],
   "source": [
    "submit45 = submit.copy()\n",
    "submit45['Predicted'] = predicted45"
   ]
  },
  {
   "cell_type": "code",
   "execution_count": 98,
   "metadata": {},
   "outputs": [],
   "source": [
    "submit50 = submit.copy()\n",
    "submit50['Predicted'] = predicted50"
   ]
  },
  {
   "cell_type": "code",
   "execution_count": 99,
   "metadata": {},
   "outputs": [],
   "source": [
    "submit25 = submit.copy()\n",
    "submit25['Predicted'] = predicted25"
   ]
  },
  {
   "cell_type": "code",
   "execution_count": 100,
   "metadata": {},
   "outputs": [],
   "source": [
    "submit30 = submit.copy()\n",
    "submit30['Predicted'] = predicted30"
   ]
  },
  {
   "cell_type": "code",
   "execution_count": 101,
   "metadata": {},
   "outputs": [],
   "source": [
    "submit35.drop(labels='path_Id', axis=1, inplace=True)"
   ]
  },
  {
   "cell_type": "code",
   "execution_count": 102,
   "metadata": {},
   "outputs": [],
   "source": [
    "submit40.drop(labels='path_Id', axis=1, inplace=True)"
   ]
  },
  {
   "cell_type": "code",
   "execution_count": 103,
   "metadata": {},
   "outputs": [],
   "source": [
    "submit45.drop(labels='path_Id', axis=1, inplace=True)"
   ]
  },
  {
   "cell_type": "code",
   "execution_count": 104,
   "metadata": {},
   "outputs": [],
   "source": [
    "submit50.drop(labels='path_Id', axis=1, inplace=True)"
   ]
  },
  {
   "cell_type": "code",
   "execution_count": 105,
   "metadata": {},
   "outputs": [],
   "source": [
    "submit25.drop(labels='path_Id', axis=1, inplace=True)"
   ]
  },
  {
   "cell_type": "code",
   "execution_count": 106,
   "metadata": {},
   "outputs": [],
   "source": [
    "submit30.drop(labels='path_Id', axis=1, inplace=True)"
   ]
  },
  {
   "cell_type": "code",
   "execution_count": 110,
   "metadata": {},
   "outputs": [
    {
     "data": {
      "text/html": [
       "<div>\n",
       "<style scoped>\n",
       "    .dataframe tbody tr th:only-of-type {\n",
       "        vertical-align: middle;\n",
       "    }\n",
       "\n",
       "    .dataframe tbody tr th {\n",
       "        vertical-align: top;\n",
       "    }\n",
       "\n",
       "    .dataframe thead th {\n",
       "        text-align: right;\n",
       "    }\n",
       "</style>\n",
       "<table border=\"1\" class=\"dataframe\">\n",
       "  <thead>\n",
       "    <tr style=\"text-align: right;\">\n",
       "      <th></th>\n",
       "      <th>Id</th>\n",
       "      <th>Predicted</th>\n",
       "    </tr>\n",
       "  </thead>\n",
       "  <tbody>\n",
       "    <tr>\n",
       "      <th>11700</th>\n",
       "      <td>fff03816-bad5-11e8-b2b9-ac1f6b6435d0</td>\n",
       "      <td>0 1</td>\n",
       "    </tr>\n",
       "    <tr>\n",
       "      <th>11701</th>\n",
       "      <td>fffe6f9c-bacd-11e8-b2b8-ac1f6b6435d0</td>\n",
       "      <td>0 25</td>\n",
       "    </tr>\n",
       "  </tbody>\n",
       "</table>\n",
       "</div>"
      ],
      "text/plain": [
       "                                         Id Predicted\n",
       "11700  fff03816-bad5-11e8-b2b9-ac1f6b6435d0       0 1\n",
       "11701  fffe6f9c-bacd-11e8-b2b8-ac1f6b6435d0      0 25"
      ]
     },
     "execution_count": 110,
     "metadata": {},
     "output_type": "execute_result"
    }
   ],
   "source": [
    "submit50.tail(2)"
   ]
  },
  {
   "cell_type": "code",
   "execution_count": 113,
   "metadata": {},
   "outputs": [],
   "source": [
    "submit35.to_csv('submission35k.csv', index=False)"
   ]
  },
  {
   "cell_type": "code",
   "execution_count": 114,
   "metadata": {},
   "outputs": [],
   "source": [
    "submit40.to_csv('submission40k.csv', index=False)"
   ]
  },
  {
   "cell_type": "code",
   "execution_count": 115,
   "metadata": {},
   "outputs": [],
   "source": [
    "submit45.to_csv('submission45k.csv', index=False)"
   ]
  },
  {
   "cell_type": "code",
   "execution_count": 116,
   "metadata": {},
   "outputs": [],
   "source": [
    "submit50.to_csv('submission50k.csv', index=False)"
   ]
  },
  {
   "cell_type": "code",
   "execution_count": 119,
   "metadata": {},
   "outputs": [],
   "source": [
    "submit25.to_csv('submission25k.csv', index=False)"
   ]
  },
  {
   "cell_type": "code",
   "execution_count": 120,
   "metadata": {},
   "outputs": [],
   "source": [
    "submit30.to_csv('submission30k.csv', index=False)"
   ]
  },
  {
   "cell_type": "code",
   "execution_count": null,
   "metadata": {},
   "outputs": [],
   "source": []
  }
 ],
 "metadata": {
  "kernelspec": {
   "display_name": "Python 3",
   "language": "python",
   "name": "python3"
  },
  "language_info": {
   "codemirror_mode": {
    "name": "ipython",
    "version": 3
   },
   "file_extension": ".py",
   "mimetype": "text/x-python",
   "name": "python",
   "nbconvert_exporter": "python",
   "pygments_lexer": "ipython3",
   "version": "3.6.6"
  }
 },
 "nbformat": 4,
 "nbformat_minor": 1
}
